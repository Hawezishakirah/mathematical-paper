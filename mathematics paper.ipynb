{
 "cells": [
  {
   "cell_type": "markdown",
   "id": "6b3890c0-827f-49d2-aa7b-30d1ac44973f",
   "metadata": {},
   "source": [
    "# no.5"
   ]
  },
  {
   "cell_type": "code",
   "execution_count": 1,
   "id": "d4f430df-5257-4a73-b44f-cb3e1def2054",
   "metadata": {},
   "outputs": [],
   "source": [
    "import numpy as np"
   ]
  },
  {
   "cell_type": "markdown",
   "id": "3fba964e-b00a-471b-850f-97b96f653513",
   "metadata": {},
   "source": [
    "# i"
   ]
  },
  {
   "cell_type": "code",
   "execution_count": 3,
   "id": "b94d8e52-55c5-4ad5-a2de-65dae115d6dc",
   "metadata": {},
   "outputs": [
    {
     "name": "stdout",
     "output_type": "stream",
     "text": [
      "[[1.  0.2 0.5]\n",
      " [0.2 1.  0.8]\n",
      " [0.5 0.8 1. ]]\n"
     ]
    }
   ],
   "source": [
    "Matrix_x = np.array([[1,0.2,0.5],[0.2,1,0.8],[0.5,0.8,1]])\n",
    "print(Matrix_x)"
   ]
  },
  {
   "cell_type": "code",
   "execution_count": 10,
   "id": "55286bea-8f7e-49b6-9724-f174e442c406",
   "metadata": {},
   "outputs": [
    {
     "name": "stdout",
     "output_type": "stream",
     "text": [
      "[[1.  0.2 0.5]\n",
      " [0.2 1.  0.8]\n",
      " [0.5 0.8 1. ]]\n"
     ]
    }
   ],
   "source": [
    "Matrix_transpose = Matrix_x.T\n",
    "print(Matrix_transpose)"
   ]
  },
  {
   "cell_type": "markdown",
   "id": "a3c4877a-521c-4234-89f4-0c7b9798174b",
   "metadata": {},
   "source": [
    "# ii"
   ]
  },
  {
   "cell_type": "code",
   "execution_count": 12,
   "id": "1bb8816f-4b6d-4115-afb6-db287601f8c4",
   "metadata": {},
   "outputs": [
    {
     "name": "stdout",
     "output_type": "stream",
     "text": [
      "0.2299999999999999\n"
     ]
    }
   ],
   "source": [
    "MatriDet = np.linalg.det(Matrix_x)# np.linalg.det is a formular used to get the determinant of a matrix\n",
    "print(MatriDet)"
   ]
  },
  {
   "cell_type": "markdown",
   "id": "6642c4ca-20c3-47b5-a3ea-c088c8f72def",
   "metadata": {},
   "source": [
    "# iiii"
   ]
  },
  {
   "cell_type": "code",
   "execution_count": 22,
   "id": "21386b10-03c4-407e-8a43-494f35e35ab1",
   "metadata": {},
   "outputs": [
    {
     "name": "stdout",
     "output_type": "stream",
     "text": [
      "SVDResult(U=array([[-0.43721717,  0.85359707, -0.28321933],\n",
      "       [-0.59931898, -0.51133314, -0.61591816],\n",
      "       [-0.67056536, -0.09955128,  0.73514055]]), S=array([2.04100779, 0.82188052, 0.13711169]), Vh=array([[-0.43721717, -0.59931898, -0.67056536],\n",
      "       [ 0.85359707, -0.51133314, -0.09955128],\n",
      "       [-0.28321933, -0.61591816,  0.73514055]]))\n"
     ]
    }
   ],
   "source": [
    "MatriDecompose = np.linalg.svd(Matrix_x) #svd decomposes data\n",
    "print(MatriDecompose)"
   ]
  },
  {
   "cell_type": "markdown",
   "id": "953d6a5c-7a94-4696-aabf-7ad879f6389a",
   "metadata": {},
   "source": [
    "# iv"
   ]
  },
  {
   "cell_type": "code",
   "execution_count": 24,
   "id": "036a6af9-3f7a-41d8-a726-acad8a87b4d4",
   "metadata": {},
   "outputs": [
    {
     "name": "stdout",
     "output_type": "stream",
     "text": [
      "(3, 3)\n"
     ]
    }
   ],
   "source": [
    "Matrix_Transform = Matrix_x.shape\n",
    "print(Matrix_Transform)"
   ]
  },
  {
   "cell_type": "markdown",
   "id": "5d951652-7f65-45e0-8fcd-e7bf717c1f26",
   "metadata": {},
   "source": [
    "# no.6"
   ]
  },
  {
   "cell_type": "code",
   "execution_count": 26,
   "id": "0087ba76-b18a-4b1f-8118-d6c57a3216a0",
   "metadata": {},
   "outputs": [],
   "source": [
    "from numpy import random"
   ]
  },
  {
   "cell_type": "markdown",
   "id": "661c5f78-4548-4ee1-9749-cd29a321b0a9",
   "metadata": {},
   "source": [
    "# i"
   ]
  },
  {
   "cell_type": "code",
   "execution_count": 28,
   "id": "c4a30126-8bf2-4ab2-b277-ca037f62d5ff",
   "metadata": {},
   "outputs": [
    {
     "name": "stdout",
     "output_type": "stream",
     "text": [
      "[ 4  2  6  1  4  3  6  6  8 10  7  2  6  3  4  2  8  6  2 10  5  2  6  6\n",
      " 10  4  5  3  3  7  6  8  7  7  5  7  4  2  4  3  3  5  5  4  5  6  7  5\n",
      "  6  8  8  5  4  7  5  7  8  6  4  5  9  3  3  3  4  8  6  7  2  8  3  6\n",
      "  6  6  6  6  2  5  5  4  2  2  5  6  5  3  2  2  8  8  6  8  6  6  7  7\n",
      "  2  3  5  3  6  6  9  5  6  2 10  6  4  2  2  2  6 11  4  3  0  4  4  3\n",
      "  9  4  4  5  5  5  2  5  6  7  8  7  4  4  5  7  5  2  6  4 10  5  8  7\n",
      "  6  7  5  3  3  4  6  4  3  3 11  5  8  5  7  2  5  2  6  6  9  6  3  4\n",
      "  5  6  3  7  4  7  7  6  8  1  2  6  8  6  3  3  2  6  5 10  0  7  6  2\n",
      "  8 10  5  5  3  4  3  5  4  4  5  7  3  6  4  6  5 12 12  3  4  8  5 10\n",
      "  6  4  5  6  5  8  5  6  6  7  5  6  4  6  4  4  3  6  4  8  3  5  1  7\n",
      "  5 14  3  6  3  4  8  7  5  2  3  5  4  7  4  2  6  5  3  2  6  5  6  5\n",
      "  7  3  7  4  5  3  2  2  3  1  1  5  6  7  1  6  6  6  4  4  3  1  2  6\n",
      "  3  2  7  4  6  6  6  7  6  7  4  1  3  6  7  5 11  5  3  8  1 11  4  4\n",
      "  3  2  2  4  6  5  0  7 10  3  2  1  3  8  5  7  5  3 10  2  6  6  3  6\n",
      "  7  7  4  2  7  5  7  5  6  4  7  6  2  5  9  7  7 10  7  6  7  2  5  6\n",
      "  3  6  5  3  5  2  6  9  5  3  9 11  9  4  4  3  9  7  2  1  5  5  4  2\n",
      "  2  6  5 10  5  5  8  5  7  4  5  2  6  6  7  5  3 11  7  8  6  6  5  2\n",
      "  4  3  6  5  3  5  6  4  3  5  4  4  7  5  5  3  4  4  9  4  3  2  4  1\n",
      "  8  7  3  4  3  4  3  3  2  5  7  2  0  4  2  6  4  4  2 10  3  6  2  4\n",
      "  8  8  7  5  5  7  5  3  6  2  6  4  5  4  5  5  1  4  2  4  7  5  6  6\n",
      " 12  5  6  2  7  7  4  5 10  7  2  4  2  7  2  9  3  4  7  3  9  4  7  5\n",
      "  2  4  6  6  3  4  5 10  5  5  5  7  5  8  7  6  3 10  2  8  4  3  4  5\n",
      "  5  6  5  4  4  6 12  5  3  9  3  6  3 10  1  5  5  0  6  3  6  4  4  6\n",
      "  4  3  3  2  5  4  6  5  6  5 10  3  7  3  7  6  5  3  6  7  3  4  4  8\n",
      "  2  6  4  6  2  4  4  6  6  5  3  4 11  3  4  7 10  4  4  6  3  3  2  2\n",
      "  3  2  5  6  1  5  2  4  3  4  5  5  8  8  1  1  6  2  3  5  9  4  4  3\n",
      "  6  3  3  5  4  1  4  3  5  2  8 12  6  4  4  0  7  4  2  5  7  4  4  5\n",
      "  7  6  5  4  6  3  5  3  9 14  2  4  6  7  5  4 10  6  3  4  4  7  3  8\n",
      "  4  5  9  5  5  5  4  2  7  7  5  7  6  7  5  4  3  6  3  4  7  3  2  5\n",
      "  4  3  4  2  3  6  2  8  4  3  6  8  9  4  5  5  6  7  5  3  5  6  8  3\n",
      " 11  4  5  6  5  5  7  9  6  4  4  3  5  6  7  3  4  5  6  4  7  3  2  7\n",
      "  3  5  6  3  7  3  3  1  5  8  6  4  4  6  2  1  2  4  3  5 10  3  3  7\n",
      "  3  6  6  0  5  7  7  7  4  4  5  5  7  6  5  4  3  4  5  7  4  4  6  7\n",
      "  4  1  0  2  7  3  6  0  4  2  3  4  0  3  4  5  7  5  4  5  4  4  2  4\n",
      "  6  1  2  3  3  3  6  9  6  6  4  4  2  4  5  5  6  1  8  8  5  5  6  3\n",
      "  5  6  3  4  6  3  1  3  3  6  2  2  7  9  3  8  5  7  4  4  2  6  5  6\n",
      "  4  5  7  6  5  6  6  3  3  5  4  4  3  3  5  2  4  5  2  8 10  7  8  5\n",
      "  4  5  5  5  4  1  6  2  8  3  8  6  6  2  4  5  7  4  2  3  4  6 10  6\n",
      "  6  2  5  5  4  5  4 10  7  7  4  6  4  4  3  4  7  8  8  3  8  6  5  5\n",
      "  6  5  2  8  6  6  8  3  4  5  6  5  5  1  3  4 10  6  1  4  4  6  6  7\n",
      "  8  4  8  2  5  3  5 13  6  3  4  3  4  5  7  4  5  5  2  6  6 12  4  3\n",
      "  5  2  4  6 11  7  4  5  0  6  5 10  8  5  5  4]\n"
     ]
    }
   ],
   "source": [
    "x=random.poisson(lam=5,size=1000) #lam represents the number of occurances\n",
    "print(x)"
   ]
  },
  {
   "cell_type": "markdown",
   "id": "a359a168-86ac-4d5f-94d2-755d758aae9b",
   "metadata": {},
   "source": [
    "# ii"
   ]
  },
  {
   "cell_type": "code",
   "execution_count": 40,
   "id": "7dd9dc23-950c-4df7-86f5-f67cc2656102",
   "metadata": {},
   "outputs": [],
   "source": [
    "import numpy as np"
   ]
  },
  {
   "cell_type": "code",
   "execution_count": 44,
   "id": "226bd046-24dd-43e1-9f4c-3316071a14d1",
   "metadata": {},
   "outputs": [
    {
     "name": "stdout",
     "output_type": "stream",
     "text": [
      "4.972\n"
     ]
    }
   ],
   "source": [
    "Mean = np.mean(x)\n",
    "print(Mean)"
   ]
  },
  {
   "cell_type": "markdown",
   "id": "11251b8c-90f6-4ba9-a4e0-5908622c960c",
   "metadata": {},
   "source": [
    "# iii"
   ]
  },
  {
   "cell_type": "code",
   "execution_count": 33,
   "id": "e21007e2-6f71-4a11-9f53-a3d362fe4c11",
   "metadata": {},
   "outputs": [],
   "source": [
    "import matplotlib.pyplot as plt"
   ]
  },
  {
   "cell_type": "code",
   "execution_count": 35,
   "id": "0a1c4962-ec18-4934-af27-38dba145c48c",
   "metadata": {},
   "outputs": [],
   "source": [
    "import seaborn as sns"
   ]
  },
  {
   "cell_type": "code",
   "execution_count": 47,
   "id": "374e7e91-6ff4-49d2-976c-26f0c2534424",
   "metadata": {},
   "outputs": [
    {
     "data": {
      "image/png": "[encoded data removed]",
      "text/plain": [
       "<Figure size 640x480 with 1 Axes>"
      ]
     },
     "metadata": {},
     "output_type": "display_data"
    }
   ],
   "source": [
    "poisson_data=random.poisson(lam=5,size=1000)# lam represents the number of occurances.\n",
    "sns.histplot(poisson_data,kde=False,color='blue')# kde visualizes data # False helps not to show the line passing through the histogram.\n",
    "plt.xlabel('number of successes')\n",
    "plt.ylabel('frequency')\n",
    "plt.title('visualisation of poisson distribution')\n",
    "plt.show()"
   ]
  },
  {
   "cell_type": "code",
   "execution_count": 49,
   "id": "27eab954-f3f6-4a7d-8c4b-d5506f5f8998",
   "metadata": {},
   "outputs": [
    {
     "data": {
      "image/png": "[encoded data removed]",
      "text/plain": [
       "<Figure size 640x480 with 1 Axes>"
      ]
     },
     "metadata": {},
     "output_type": "display_data"
    }
   ],
   "source": [
    "poisson_data=random.poisson(lam=5,size=1000)\n",
    "sns.histplot(poisson_data,kde=True,color='blue')# kde visualizes data # False helps to show the line passing through the histogram.\n",
    "plt.xlabel('number of successes')\n",
    "plt.ylabel('frequency')\n",
    "plt.title('visualisation of poisson distribution')\n",
    "plt.show()"
   ]
  },
  {
   "cell_type": "code",
   "execution_count": null,
   "id": "d8e40332-b44f-4819-9b1a-08e223c8f554",
   "metadata": {},
   "outputs": [],
   "source": []
  }
 ],
 "metadata": {
  "kernelspec": {
   "display_name": "Python 3 (ipykernel)",
   "language": "python",
   "name": "python3"
  },
  "language_info": {
   "codemirror_mode": {
    "name": "ipython",
    "version": 3
   },
   "file_extension": ".py",
   "mimetype": "text/x-python",
   "name": "python",
   "nbconvert_exporter": "python",
   "pygments_lexer": "ipython3",
   "version": "3.12.4"
  }
 },
 "nbformat": 4,
 "nbformat_minor": 5
}
